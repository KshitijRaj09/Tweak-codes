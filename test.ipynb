{
  "nbformat": 4,
  "nbformat_minor": 0,
  "metadata": {
    "colab": {
      "name": "test.ipynb",
      "provenance": [],
      "collapsed_sections": [],
      "authorship_tag": "ABX9TyOH3JkTh3JaVi1GuSLSoPmT",
      "include_colab_link": true
    },
    "kernelspec": {
      "name": "python3",
      "display_name": "Python 3"
    }
  },
  "cells": [
    {
      "cell_type": "markdown",
      "metadata": {
        "id": "view-in-github",
        "colab_type": "text"
      },
      "source": [
        "<a href=\"https://colab.research.google.com/github/KshitijRaj09/testing/blob/main/test.ipynb\" target=\"_parent\"><img src=\"https://colab.research.google.com/assets/colab-badge.svg\" alt=\"Open In Colab\"/></a>"
      ]
    },
    {
      "cell_type": "code",
      "metadata": {
        "id": "n7NaU7NCluH-"
      },
      "source": [
        "import java.util.*;\r\n",
        "public class HelloWorld{\r\n",
        "\r\n",
        "     public static void main(String []args){\r\n",
        "        Scanner sc = new Scanner(System.in);\r\n",
        "        String input=sc.nextLine().toLowerCase();\r\n",
        "        int count = 0;\r\n",
        "        for(int i=0;i<input.length();i++)\r\n",
        "        {\r\n",
        "            char s=(input.charAt(i));\r\n",
        "            \r\n",
        "            if(s=='a'||s=='e'||s=='i'||s=='o'||s=='u'){\r\n",
        "                count++;\r\n",
        "            }\r\n",
        "        }\r\n",
        "        System.out.println(\"Number of Vowels: \" +count);\r\n",
        "     }\r\n",
        "}"
      ],
      "execution_count": null,
      "outputs": []
    }
  ]
}